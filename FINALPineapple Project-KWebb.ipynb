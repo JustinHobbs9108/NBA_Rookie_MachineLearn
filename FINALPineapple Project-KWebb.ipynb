{
 "cells": [
  {
   "cell_type": "code",
   "execution_count": 1,
   "metadata": {},
   "outputs": [],
   "source": [
    "import os \n",
    "import csv\n",
    "import numpy as np\n",
    "import pandas as pd\n",
    "import matplotlib.pyplot as plt\n",
    "#import scipy.stats as stats\n",
    "#import seaborn as sns\n",
    "%matplotlib inline\n",
    "#from stats import mean, median, mode, multi_mode"
   ]
  },
  {
   "cell_type": "code",
   "execution_count": 2,
   "metadata": {},
   "outputs": [
    {
     "data": {
      "text/html": [
       "<div>\n",
       "<style scoped>\n",
       "    .dataframe tbody tr th:only-of-type {\n",
       "        vertical-align: middle;\n",
       "    }\n",
       "\n",
       "    .dataframe tbody tr th {\n",
       "        vertical-align: top;\n",
       "    }\n",
       "\n",
       "    .dataframe thead th {\n",
       "        text-align: right;\n",
       "    }\n",
       "</style>\n",
       "<table border=\"1\" class=\"dataframe\">\n",
       "  <thead>\n",
       "    <tr style=\"text-align: right;\">\n",
       "      <th></th>\n",
       "      <th>Date</th>\n",
       "      <th>Team</th>\n",
       "      <th>name</th>\n",
       "      <th>Notes</th>\n",
       "      <th>year_start</th>\n",
       "      <th>year_end</th>\n",
       "      <th>position</th>\n",
       "      <th>weight</th>\n",
       "      <th>birth_date</th>\n",
       "      <th>college</th>\n",
       "      <th>...</th>\n",
       "      <th>BMI</th>\n",
       "      <th>BMI ranges</th>\n",
       "      <th>Unnamed: 0</th>\n",
       "      <th>Strains/Sprains</th>\n",
       "      <th>Dislocations</th>\n",
       "      <th>Arm Fractures</th>\n",
       "      <th>Leg Fractures</th>\n",
       "      <th>Injury Type</th>\n",
       "      <th>Estimated Medical Costs (2012)</th>\n",
       "      <th>age</th>\n",
       "    </tr>\n",
       "  </thead>\n",
       "  <tbody>\n",
       "    <tr>\n",
       "      <td>1</td>\n",
       "      <td>10/3/2010</td>\n",
       "      <td>Bulls</td>\n",
       "      <td>Carlos Boozer</td>\n",
       "      <td>fractured bone in right pinky finger (out inde...</td>\n",
       "      <td>2003</td>\n",
       "      <td>2015</td>\n",
       "      <td>F-C</td>\n",
       "      <td>258</td>\n",
       "      <td>11/20/1981</td>\n",
       "      <td>Duke University</td>\n",
       "      <td>...</td>\n",
       "      <td>28.6</td>\n",
       "      <td>28.5-29</td>\n",
       "      <td>221</td>\n",
       "      <td>True</td>\n",
       "      <td>False</td>\n",
       "      <td>False</td>\n",
       "      <td>False</td>\n",
       "      <td>Strain/Sprain</td>\n",
       "      <td>3175</td>\n",
       "      <td>28</td>\n",
       "    </tr>\n",
       "    <tr>\n",
       "      <td>2</td>\n",
       "      <td>10/3/2010</td>\n",
       "      <td>Bulls</td>\n",
       "      <td>Carlos Boozer</td>\n",
       "      <td>fractured bone in right pinky finger (out inde...</td>\n",
       "      <td>2003</td>\n",
       "      <td>2015</td>\n",
       "      <td>F-C</td>\n",
       "      <td>258</td>\n",
       "      <td>11/20/1981</td>\n",
       "      <td>Duke University</td>\n",
       "      <td>...</td>\n",
       "      <td>28.6</td>\n",
       "      <td>28.5-29</td>\n",
       "      <td>227</td>\n",
       "      <td>True</td>\n",
       "      <td>False</td>\n",
       "      <td>False</td>\n",
       "      <td>False</td>\n",
       "      <td>Strain/Sprain</td>\n",
       "      <td>3175</td>\n",
       "      <td>28</td>\n",
       "    </tr>\n",
       "    <tr>\n",
       "      <td>3</td>\n",
       "      <td>10/3/2010</td>\n",
       "      <td>Bulls</td>\n",
       "      <td>Carlos Boozer</td>\n",
       "      <td>fractured bone in right pinky finger (out inde...</td>\n",
       "      <td>2003</td>\n",
       "      <td>2015</td>\n",
       "      <td>F-C</td>\n",
       "      <td>258</td>\n",
       "      <td>11/20/1981</td>\n",
       "      <td>Duke University</td>\n",
       "      <td>...</td>\n",
       "      <td>28.6</td>\n",
       "      <td>28.5-29</td>\n",
       "      <td>230</td>\n",
       "      <td>True</td>\n",
       "      <td>False</td>\n",
       "      <td>False</td>\n",
       "      <td>False</td>\n",
       "      <td>Strain/Sprain</td>\n",
       "      <td>3175</td>\n",
       "      <td>28</td>\n",
       "    </tr>\n",
       "    <tr>\n",
       "      <td>4</td>\n",
       "      <td>10/3/2010</td>\n",
       "      <td>Bulls</td>\n",
       "      <td>Carlos Boozer</td>\n",
       "      <td>fractured bone in right pinky finger (out inde...</td>\n",
       "      <td>2003</td>\n",
       "      <td>2015</td>\n",
       "      <td>F-C</td>\n",
       "      <td>258</td>\n",
       "      <td>11/20/1981</td>\n",
       "      <td>Duke University</td>\n",
       "      <td>...</td>\n",
       "      <td>28.6</td>\n",
       "      <td>28.5-29</td>\n",
       "      <td>2092</td>\n",
       "      <td>True</td>\n",
       "      <td>False</td>\n",
       "      <td>False</td>\n",
       "      <td>False</td>\n",
       "      <td>Strain/Sprain</td>\n",
       "      <td>3175</td>\n",
       "      <td>28</td>\n",
       "    </tr>\n",
       "    <tr>\n",
       "      <td>5</td>\n",
       "      <td>10/3/2010</td>\n",
       "      <td>Bulls</td>\n",
       "      <td>Carlos Boozer</td>\n",
       "      <td>fractured bone in right pinky finger (out inde...</td>\n",
       "      <td>2003</td>\n",
       "      <td>2015</td>\n",
       "      <td>F-C</td>\n",
       "      <td>258</td>\n",
       "      <td>11/20/1981</td>\n",
       "      <td>Duke University</td>\n",
       "      <td>...</td>\n",
       "      <td>28.6</td>\n",
       "      <td>28.5-29</td>\n",
       "      <td>2105</td>\n",
       "      <td>True</td>\n",
       "      <td>False</td>\n",
       "      <td>False</td>\n",
       "      <td>False</td>\n",
       "      <td>Strain/Sprain</td>\n",
       "      <td>3175</td>\n",
       "      <td>28</td>\n",
       "    </tr>\n",
       "    <tr>\n",
       "      <td>...</td>\n",
       "      <td>...</td>\n",
       "      <td>...</td>\n",
       "      <td>...</td>\n",
       "      <td>...</td>\n",
       "      <td>...</td>\n",
       "      <td>...</td>\n",
       "      <td>...</td>\n",
       "      <td>...</td>\n",
       "      <td>...</td>\n",
       "      <td>...</td>\n",
       "      <td>...</td>\n",
       "      <td>...</td>\n",
       "      <td>...</td>\n",
       "      <td>...</td>\n",
       "      <td>...</td>\n",
       "      <td>...</td>\n",
       "      <td>...</td>\n",
       "      <td>...</td>\n",
       "      <td>...</td>\n",
       "      <td>...</td>\n",
       "      <td>...</td>\n",
       "    </tr>\n",
       "    <tr>\n",
       "      <td>157034</td>\n",
       "      <td>4/3/2018</td>\n",
       "      <td>Kings</td>\n",
       "      <td>Skal Labissiere</td>\n",
       "      <td>sprained left ankle (out for season)</td>\n",
       "      <td>2017</td>\n",
       "      <td>2018</td>\n",
       "      <td>F</td>\n",
       "      <td>225</td>\n",
       "      <td>3/18/1996</td>\n",
       "      <td>University of Kentucky</td>\n",
       "      <td>...</td>\n",
       "      <td>23.7</td>\n",
       "      <td>23.5-24</td>\n",
       "      <td>6175</td>\n",
       "      <td>True</td>\n",
       "      <td>False</td>\n",
       "      <td>False</td>\n",
       "      <td>False</td>\n",
       "      <td>Strain/Sprain</td>\n",
       "      <td>3175</td>\n",
       "      <td>22</td>\n",
       "    </tr>\n",
       "    <tr>\n",
       "      <td>157035</td>\n",
       "      <td>4/6/2018</td>\n",
       "      <td>Pelicans</td>\n",
       "      <td>Ian Clark</td>\n",
       "      <td>sprained right ankle (DTD)</td>\n",
       "      <td>2014</td>\n",
       "      <td>2018</td>\n",
       "      <td>G</td>\n",
       "      <td>175</td>\n",
       "      <td>3/7/1991</td>\n",
       "      <td>Belmont University</td>\n",
       "      <td>...</td>\n",
       "      <td>22.6</td>\n",
       "      <td>22.5-23</td>\n",
       "      <td>6187</td>\n",
       "      <td>True</td>\n",
       "      <td>False</td>\n",
       "      <td>False</td>\n",
       "      <td>False</td>\n",
       "      <td>Strain/Sprain</td>\n",
       "      <td>3175</td>\n",
       "      <td>27</td>\n",
       "    </tr>\n",
       "    <tr>\n",
       "      <td>157036</td>\n",
       "      <td>4/8/2018</td>\n",
       "      <td>Suns</td>\n",
       "      <td>Josh Jackson</td>\n",
       "      <td>bruised right quadriceps (out for season)</td>\n",
       "      <td>2018</td>\n",
       "      <td>2018</td>\n",
       "      <td>G-F</td>\n",
       "      <td>207</td>\n",
       "      <td>2/10/1997</td>\n",
       "      <td>University of Kansas</td>\n",
       "      <td>...</td>\n",
       "      <td>23.5</td>\n",
       "      <td>23-23.5</td>\n",
       "      <td>6191</td>\n",
       "      <td>False</td>\n",
       "      <td>False</td>\n",
       "      <td>False</td>\n",
       "      <td>False</td>\n",
       "      <td>No Index</td>\n",
       "      <td>No Index</td>\n",
       "      <td>21</td>\n",
       "    </tr>\n",
       "    <tr>\n",
       "      <td>157037</td>\n",
       "      <td>4/23/2018</td>\n",
       "      <td>Timberwolves</td>\n",
       "      <td>Tyus Jones</td>\n",
       "      <td>sore right knee (DTD)</td>\n",
       "      <td>2016</td>\n",
       "      <td>2018</td>\n",
       "      <td>G</td>\n",
       "      <td>195</td>\n",
       "      <td>5/10/1996</td>\n",
       "      <td>Duke University</td>\n",
       "      <td>...</td>\n",
       "      <td>25.9</td>\n",
       "      <td>25.5-26</td>\n",
       "      <td>6207</td>\n",
       "      <td>False</td>\n",
       "      <td>False</td>\n",
       "      <td>False</td>\n",
       "      <td>False</td>\n",
       "      <td>No Index</td>\n",
       "      <td>No Index</td>\n",
       "      <td>21</td>\n",
       "    </tr>\n",
       "    <tr>\n",
       "      <td>157038</td>\n",
       "      <td>4/26/2018</td>\n",
       "      <td>Nuggets</td>\n",
       "      <td>Mason Plumlee</td>\n",
       "      <td>surgery to repair core muscle injury</td>\n",
       "      <td>2014</td>\n",
       "      <td>2018</td>\n",
       "      <td>F-C</td>\n",
       "      <td>245</td>\n",
       "      <td>3/5/1990</td>\n",
       "      <td>Duke University</td>\n",
       "      <td>...</td>\n",
       "      <td>25.8</td>\n",
       "      <td>25.5-26</td>\n",
       "      <td>6208</td>\n",
       "      <td>False</td>\n",
       "      <td>False</td>\n",
       "      <td>False</td>\n",
       "      <td>False</td>\n",
       "      <td>No Index</td>\n",
       "      <td>No Index</td>\n",
       "      <td>28</td>\n",
       "    </tr>\n",
       "  </tbody>\n",
       "</table>\n",
       "<p>157038 rows × 25 columns</p>\n",
       "</div>"
      ],
      "text/plain": [
       "             Date          Team             name  \\\n",
       "1       10/3/2010         Bulls    Carlos Boozer   \n",
       "2       10/3/2010         Bulls    Carlos Boozer   \n",
       "3       10/3/2010         Bulls    Carlos Boozer   \n",
       "4       10/3/2010         Bulls    Carlos Boozer   \n",
       "5       10/3/2010         Bulls    Carlos Boozer   \n",
       "...           ...           ...              ...   \n",
       "157034   4/3/2018         Kings  Skal Labissiere   \n",
       "157035   4/6/2018      Pelicans        Ian Clark   \n",
       "157036   4/8/2018          Suns     Josh Jackson   \n",
       "157037  4/23/2018  Timberwolves       Tyus Jones   \n",
       "157038  4/26/2018       Nuggets    Mason Plumlee   \n",
       "\n",
       "                                                    Notes  year_start  \\\n",
       "1       fractured bone in right pinky finger (out inde...        2003   \n",
       "2       fractured bone in right pinky finger (out inde...        2003   \n",
       "3       fractured bone in right pinky finger (out inde...        2003   \n",
       "4       fractured bone in right pinky finger (out inde...        2003   \n",
       "5       fractured bone in right pinky finger (out inde...        2003   \n",
       "...                                                   ...         ...   \n",
       "157034               sprained left ankle (out for season)        2017   \n",
       "157035                         sprained right ankle (DTD)        2014   \n",
       "157036          bruised right quadriceps (out for season)        2018   \n",
       "157037                              sore right knee (DTD)        2016   \n",
       "157038               surgery to repair core muscle injury        2014   \n",
       "\n",
       "        year_end position  weight  birth_date                 college  ...  \\\n",
       "1           2015      F-C     258  11/20/1981         Duke University  ...   \n",
       "2           2015      F-C     258  11/20/1981         Duke University  ...   \n",
       "3           2015      F-C     258  11/20/1981         Duke University  ...   \n",
       "4           2015      F-C     258  11/20/1981         Duke University  ...   \n",
       "5           2015      F-C     258  11/20/1981         Duke University  ...   \n",
       "...          ...      ...     ...         ...                     ...  ...   \n",
       "157034      2018        F     225   3/18/1996  University of Kentucky  ...   \n",
       "157035      2018        G     175    3/7/1991      Belmont University  ...   \n",
       "157036      2018      G-F     207   2/10/1997    University of Kansas  ...   \n",
       "157037      2018        G     195   5/10/1996         Duke University  ...   \n",
       "157038      2018      F-C     245    3/5/1990         Duke University  ...   \n",
       "\n",
       "         BMI  BMI ranges  Unnamed: 0  Strains/Sprains  Dislocations  \\\n",
       "1       28.6     28.5-29         221             True         False   \n",
       "2       28.6     28.5-29         227             True         False   \n",
       "3       28.6     28.5-29         230             True         False   \n",
       "4       28.6     28.5-29        2092             True         False   \n",
       "5       28.6     28.5-29        2105             True         False   \n",
       "...      ...         ...         ...              ...           ...   \n",
       "157034  23.7     23.5-24        6175             True         False   \n",
       "157035  22.6     22.5-23        6187             True         False   \n",
       "157036  23.5     23-23.5        6191            False         False   \n",
       "157037  25.9     25.5-26        6207            False         False   \n",
       "157038  25.8     25.5-26        6208            False         False   \n",
       "\n",
       "        Arm Fractures Leg Fractures    Injury Type  \\\n",
       "1               False         False  Strain/Sprain   \n",
       "2               False         False  Strain/Sprain   \n",
       "3               False         False  Strain/Sprain   \n",
       "4               False         False  Strain/Sprain   \n",
       "5               False         False  Strain/Sprain   \n",
       "...               ...           ...            ...   \n",
       "157034          False         False  Strain/Sprain   \n",
       "157035          False         False  Strain/Sprain   \n",
       "157036          False         False       No Index   \n",
       "157037          False         False       No Index   \n",
       "157038          False         False       No Index   \n",
       "\n",
       "        Estimated Medical Costs (2012)  age  \n",
       "1                                 3175   28  \n",
       "2                                 3175   28  \n",
       "3                                 3175   28  \n",
       "4                                 3175   28  \n",
       "5                                 3175   28  \n",
       "...                                ...  ...  \n",
       "157034                            3175   22  \n",
       "157035                            3175   27  \n",
       "157036                        No Index   21  \n",
       "157037                        No Index   21  \n",
       "157038                        No Index   28  \n",
       "\n",
       "[157038 rows x 25 columns]"
      ]
     },
     "execution_count": 2,
     "metadata": {},
     "output_type": "execute_result"
    }
   ],
   "source": [
    "nba_hurt = pd.read_csv('nba_hurtsv2.csv')\n",
    "nba_hurt.head()\n",
    "nba_hurt = nba_hurt.drop([0], axis = 0)\n",
    "nba_hurt.dropna(how = \"any\")"
   ]
  },
  {
   "cell_type": "code",
   "execution_count": 3,
   "metadata": {},
   "outputs": [],
   "source": [
    "# age = nba_hurt[\"birth_date\"].str.split(\"/\", n = 2, expand = True)\n",
    "# date= nba_hurt[\"Date\"].str.split('/', n = 2, expand = True)\n",
    "# age = age[0]\n",
    "# date= date[0]"
   ]
  },
  {
   "cell_type": "code",
   "execution_count": 4,
   "metadata": {},
   "outputs": [],
   "source": [
    "# age = pd.to_numeric(age)\n",
    "# date = pd.to_numeric(date)"
   ]
  },
  {
   "cell_type": "code",
   "execution_count": 5,
   "metadata": {},
   "outputs": [],
   "source": [
    "# date2 = date.iloc[1:12432]\n",
    "# age2 = age.iloc[1:12432]"
   ]
  },
  {
   "cell_type": "code",
   "execution_count": 6,
   "metadata": {},
   "outputs": [],
   "source": [
    "age_bins = [0,16,17,18,19,20,21,22,23,24,25,26,27,28,29,30,31,32,33,34,35,36,37,38,39,40,60]\n",
    "group_names = [\"0-16\", \"17\", \"18\", \"19\", \"20\", \"21\", \"22\", \"23\", \"24\", \"25\", \"26\", \"27\", \"28\", \"29\", \"30\", \n",
    "          \"31\", \"32\", \"33\", \"34\", \"35\", \"36\", \"37\", \"38\", \"39\", \"40\", \"40+\"]\n",
    "\n",
    "nba_hurt[\"Injury Age\"] = pd.cut(nba_hurt[\"age\"], age_bins, labels =group_names)"
   ]
  },
  {
   "cell_type": "code",
   "execution_count": 7,
   "metadata": {
    "scrolled": true
   },
   "outputs": [
    {
     "data": {
      "text/plain": [
       "Injury Age\n",
       "0-16        0\n",
       "17          0\n",
       "18          1\n",
       "19       1349\n",
       "20       1896\n",
       "21       4308\n",
       "22       7140\n",
       "23      10693\n",
       "24      12909\n",
       "25      15036\n",
       "26      15043\n",
       "27      17165\n",
       "28      14205\n",
       "29      13831\n",
       "30       8880\n",
       "31       7776\n",
       "32       8130\n",
       "33       5463\n",
       "34       2669\n",
       "35       2578\n",
       "36       1047\n",
       "37        892\n",
       "38       1396\n",
       "39       1117\n",
       "40        826\n",
       "40+       376\n",
       "Name: Injury Age, dtype: int64"
      ]
     },
     "execution_count": 7,
     "metadata": {},
     "output_type": "execute_result"
    }
   ],
   "source": [
    "inj_age_df = nba_hurt.groupby([\"Injury Age\"])\n",
    "inj_age_count = inj_age_df[\"Injury Age\"].count()\n",
    "inj_age_count"
   ]
  },
  {
   "cell_type": "code",
   "execution_count": 49,
   "metadata": {},
   "outputs": [
    {
     "data": {
      "image/png": "[encoded data removed]",
      "text/plain": [
       "<Figure size 432x288 with 1 Axes>"
      ]
     },
     "metadata": {
      "needs_background": "light"
     },
     "output_type": "display_data"
    }
   ],
   "source": [
    "x_axis = np.arange(0,len(inj_age_count),1)\n",
    "plt.bar(x_axis,inj_age_count, label=\"Age of Player \", align = \"center\")\n",
    "plt.xticks([0,3,7,11,15,19,23,27,31,35],[\"19\",\"22\",\"26\",\"30\",\"34\",\"38\",\"42\",\"46\",\"50\",\"54\"] )\n",
    "plt.xlabel(\"Player Age at Time of Injury\")\n",
    "plt.ylabel(\"Number of Injuries\")\n",
    "plt.title(\"Age of Player\")\n",
    "plt.savefig(\"Injuries_Age.png\")"
   ]
  },
  {
   "cell_type": "code",
   "execution_count": 9,
   "metadata": {},
   "outputs": [
    {
     "data": {
      "text/plain": [
       "Injury Age\n",
       "0-16       0.0\n",
       "17         0.0\n",
       "18         0.0\n",
       "19       466.0\n",
       "20       598.0\n",
       "21      1330.0\n",
       "22      1782.0\n",
       "23      3584.0\n",
       "24      2809.0\n",
       "25      3812.0\n",
       "26      4132.0\n",
       "27      5519.0\n",
       "28      3767.0\n",
       "29      3861.0\n",
       "30      2962.0\n",
       "31      2609.0\n",
       "32      2434.0\n",
       "33      1320.0\n",
       "34       651.0\n",
       "35       547.0\n",
       "36       232.0\n",
       "37       192.0\n",
       "38       186.0\n",
       "39       250.0\n",
       "40       245.0\n",
       "40+       14.0\n",
       "Name: Strains/Sprains, dtype: float64"
      ]
     },
     "execution_count": 9,
     "metadata": {},
     "output_type": "execute_result"
    }
   ],
   "source": [
    "agesprains = nba_hurt.groupby([\"Injury Age\",'Strains/Sprains'])[['Strains/Sprains']].count()\n",
    "agesprains_count = inj_age_df[\"Strains/Sprains\"].sum()\n",
    "agesprains_count"
   ]
  },
  {
   "cell_type": "code",
   "execution_count": 63,
   "metadata": {
    "scrolled": true
   },
   "outputs": [
    {
     "data": {
      "image/png": "[encoded data removed]",
      "text/plain": [
       "<Figure size 432x288 with 1 Axes>"
      ]
     },
     "metadata": {
      "needs_background": "light"
     },
     "output_type": "display_data"
    }
   ],
   "source": [
    "x_axis = np.arange(0,len(agesprains_count),1)\n",
    "plt.bar(x_axis,agesprains_count, label=\"Age of Player \", color= \"r\", align = \"center\")\n",
    "plt.xticks([0,3,7,11,15,19,23,27,31,35],[\"19\",\"22\",\"26\",\"30\",\"34\",\"38\",\"42\",\"46\",\"50\",\"54\"] )\n",
    "plt.xlabel(\"Player Age at Time of Sprain/Strain\")\n",
    "plt.ylabel(\"Number of Sprains/Strains\")\n",
    "plt.title(\"Sprains/Strains by Age of Player\")\n",
    "plt.savefig(\"Sprains_Age.png\")"
   ]
  },
  {
   "cell_type": "code",
   "execution_count": 11,
   "metadata": {
    "scrolled": true
   },
   "outputs": [
    {
     "data": {
      "text/plain": [
       "Injury Age\n",
       "0-16      0.0\n",
       "17        0.0\n",
       "18        0.0\n",
       "19        0.0\n",
       "20        2.0\n",
       "21        5.0\n",
       "22       27.0\n",
       "23       13.0\n",
       "24       31.0\n",
       "25       36.0\n",
       "26       24.0\n",
       "27       41.0\n",
       "28      180.0\n",
       "29       34.0\n",
       "30       20.0\n",
       "31       20.0\n",
       "32       24.0\n",
       "33        6.0\n",
       "34       19.0\n",
       "35       10.0\n",
       "36        0.0\n",
       "37        0.0\n",
       "38        0.0\n",
       "39        0.0\n",
       "40        0.0\n",
       "40+       0.0\n",
       "Name: Dislocations, dtype: float64"
      ]
     },
     "execution_count": 11,
     "metadata": {},
     "output_type": "execute_result"
    }
   ],
   "source": [
    "agedislocations = nba_hurt.groupby([\"Injury Age\",'Dislocations'])[['Dislocations']].count()\n",
    "agedislocations_count = inj_age_df[\"Dislocations\"].sum()\n",
    "agedislocations_count"
   ]
  },
  {
   "cell_type": "code",
   "execution_count": 51,
   "metadata": {},
   "outputs": [
    {
     "data": {
      "image/png": "[encoded data removed]",
      "text/plain": [
       "<Figure size 432x288 with 1 Axes>"
      ]
     },
     "metadata": {
      "needs_background": "light"
     },
     "output_type": "display_data"
    }
   ],
   "source": [
    "x_axis = np.arange(0,len(agedislocations_count),1)\n",
    "plt.bar(x_axis,agedislocations_count, label=\"Age of Player \", color=\"g\", align = \"center\")\n",
    "plt.xticks([0,3,7,11,15,19,23,27,31,35],[\"19\",\"22\",\"26\",\"30\",\"34\",\"38\",\"42\",\"46\",\"50\",\"54\"] )\n",
    "plt.xlabel(\"Player Age at Time of Dislocation\")\n",
    "plt.ylabel(\"Number of Dislocations\")\n",
    "plt.title(\"Dislocations by Age of Player\")\n",
    "plt.savefig(\"Dislocations_Age.png\")"
   ]
  },
  {
   "cell_type": "code",
   "execution_count": 13,
   "metadata": {},
   "outputs": [
    {
     "data": {
      "text/plain": [
       "Injury Age\n",
       "0-16       0.0\n",
       "17         0.0\n",
       "18         0.0\n",
       "19         2.0\n",
       "20        32.0\n",
       "21        16.0\n",
       "22       238.0\n",
       "23       382.0\n",
       "24      1523.0\n",
       "25       224.0\n",
       "26       198.0\n",
       "27       266.0\n",
       "28       332.0\n",
       "29       225.0\n",
       "30        38.0\n",
       "31        31.0\n",
       "32        28.0\n",
       "33        27.0\n",
       "34        14.0\n",
       "35         6.0\n",
       "36         0.0\n",
       "37         0.0\n",
       "38         0.0\n",
       "39         0.0\n",
       "40         0.0\n",
       "40+        0.0\n",
       "Name: Arm Fractures, dtype: float64"
      ]
     },
     "execution_count": 13,
     "metadata": {},
     "output_type": "execute_result"
    }
   ],
   "source": [
    "agearmbreak = nba_hurt.groupby([\"Injury Age\",'Arm Fractures'])[['Arm Fractures']].count()\n",
    "agearmbreak_count = inj_age_df[\"Arm Fractures\"].sum()\n",
    "agearmbreak_count"
   ]
  },
  {
   "cell_type": "code",
   "execution_count": 52,
   "metadata": {},
   "outputs": [
    {
     "data": {
      "image/png": "[encoded data removed]",
      "text/plain": [
       "<Figure size 432x288 with 1 Axes>"
      ]
     },
     "metadata": {
      "needs_background": "light"
     },
     "output_type": "display_data"
    }
   ],
   "source": [
    "x_axis = np.arange(0,len(agearmbreak_count),1)\n",
    "plt.bar(x_axis,agearmbreak_count, label=\"Age of Player \", color=\"orange\", align = \"center\")\n",
    "plt.xticks([0,3,7,11,15,19,23,27,31,35],[\"19\",\"22\",\"26\",\"30\",\"34\",\"38\",\"42\",\"46\",\"50\",\"54\"] )\n",
    "plt.xlabel(\"Player Age at Time of Arm Fracture\")\n",
    "plt.ylabel(\"Number of Arm Fractures\")\n",
    "plt.title(\"Arm Fractures by Age of Player\")\n",
    "plt.savefig(\"ArmFractures_Age.png\")"
   ]
  },
  {
   "cell_type": "code",
   "execution_count": 15,
   "metadata": {},
   "outputs": [
    {
     "data": {
      "text/plain": [
       "Injury Age\n",
       "0-16     0.0\n",
       "17       0.0\n",
       "18       0.0\n",
       "19       4.0\n",
       "20      10.0\n",
       "21      10.0\n",
       "22      52.0\n",
       "23      43.0\n",
       "24      42.0\n",
       "25      54.0\n",
       "26      44.0\n",
       "27      31.0\n",
       "28      29.0\n",
       "29      52.0\n",
       "30      11.0\n",
       "31      25.0\n",
       "32      19.0\n",
       "33      11.0\n",
       "34       0.0\n",
       "35       0.0\n",
       "36       0.0\n",
       "37       0.0\n",
       "38       0.0\n",
       "39       0.0\n",
       "40       0.0\n",
       "40+      0.0\n",
       "Name: Leg Fractures, dtype: float64"
      ]
     },
     "execution_count": 15,
     "metadata": {},
     "output_type": "execute_result"
    }
   ],
   "source": [
    "agelegbreaks = nba_hurt.groupby([\"Injury Age\",'Leg Fractures'])[['Leg Fractures']].count()\n",
    "agelegbreaks_count = inj_age_df[\"Leg Fractures\"].sum()\n",
    "agelegbreaks_count"
   ]
  },
  {
   "cell_type": "code",
   "execution_count": 53,
   "metadata": {},
   "outputs": [
    {
     "data": {
      "image/png": "[encoded data removed]",
      "text/plain": [
       "<Figure size 432x288 with 1 Axes>"
      ]
     },
     "metadata": {
      "needs_background": "light"
     },
     "output_type": "display_data"
    }
   ],
   "source": [
    "x_axis = np.arange(0,len(agelegbreaks_count),1)\n",
    "plt.bar(x_axis,agelegbreaks_count, label=\"Age of Player \", color=\"purple\", align = \"center\")\n",
    "plt.xticks([0,3,7,11,15,19,23,27,31,35],[\"19\",\"22\",\"26\",\"30\",\"34\",\"38\",\"42\",\"46\",\"50\",\"54\"] )\n",
    "plt.xlabel(\"Player Age at Time of Leg Fracture\")\n",
    "plt.ylabel(\"Number of Leg Fractures\")\n",
    "plt.title(\"Leg Fractures by Age of Player\")\n",
    "plt.savefig(\"LegFractures_Age.png\")"
   ]
  },
  {
   "cell_type": "code",
   "execution_count": 17,
   "metadata": {
    "scrolled": true
   },
   "outputs": [
    {
     "data": {
      "text/plain": [
       "college\n",
       "Alabama A&M University            9\n",
       "Arizona State University        266\n",
       "Auburn University                25\n",
       "Baylor University               908\n",
       "Belmont University                1\n",
       "                               ... \n",
       "Western Carolina University    1369\n",
       "Western Kentucky University     290\n",
       "Western Michigan University       1\n",
       "Wichita State University        470\n",
       "Xavier University               147\n",
       "Name: college, Length: 146, dtype: int64"
      ]
     },
     "execution_count": 17,
     "metadata": {},
     "output_type": "execute_result"
    }
   ],
   "source": [
    "inj_school = nba_hurt.groupby([\"college\"])\n",
    "inj_school_count = inj_school[\"college\"].count()\n",
    "inj_school_count"
   ]
  },
  {
   "cell_type": "code",
   "execution_count": 55,
   "metadata": {},
   "outputs": [
    {
     "data": {
      "image/png": "[encoded data removed]",
      "text/plain": [
       "<Figure size 432x288 with 1 Axes>"
      ]
     },
     "metadata": {
      "needs_background": "light"
     },
     "output_type": "display_data"
    }
   ],
   "source": [
    "x_axis = np.arange(0,len(inj_school_count),1)\n",
    "plt.bar(x_axis,inj_school_count, label=\"Injuries by College Team\", align = \"center\")\n",
    "#plt.xticks([0,3,7,11,15,19,23,27,31,35],[\"19\",\"22\",\"26\",\"30\",\"34\",\"38\",\"42\",\"46\",\"50\",\"54\"] )\n",
    "plt.xlabel(\"Injured Player's College Team\")\n",
    "plt.ylabel(\"Number of Injuries\")\n",
    "plt.title(\"Injuries by College Team\")\n",
    "plt.savefig(\"Injuries_Schools.png\")"
   ]
  },
  {
   "cell_type": "code",
   "execution_count": 19,
   "metadata": {},
   "outputs": [
    {
     "data": {
      "text/plain": [
       "college\n",
       "Alabama A&M University           0.0\n",
       "Arizona State University        83.0\n",
       "Auburn University                0.0\n",
       "Baylor University              280.0\n",
       "Belmont University               1.0\n",
       "                               ...  \n",
       "Western Carolina University    740.0\n",
       "Western Kentucky University    144.0\n",
       "Western Michigan University      0.0\n",
       "Wichita State University        10.0\n",
       "Xavier University               26.0\n",
       "Name: Strains/Sprains, Length: 146, dtype: float64"
      ]
     },
     "execution_count": 19,
     "metadata": {},
     "output_type": "execute_result"
    }
   ],
   "source": [
    "schoolsprains = nba_hurt.groupby([\"college\",'Strains/Sprains'])[['Strains/Sprains']].count()\n",
    "schoolsprains_count = inj_school[\"Strains/Sprains\"].sum()\n",
    "schoolsprains_count"
   ]
  },
  {
   "cell_type": "code",
   "execution_count": 62,
   "metadata": {},
   "outputs": [
    {
     "data": {
      "image/png": "[encoded data removed]",
      "text/plain": [
       "<Figure size 432x288 with 1 Axes>"
      ]
     },
     "metadata": {
      "needs_background": "light"
     },
     "output_type": "display_data"
    }
   ],
   "source": [
    "x_axis = np.arange(0,len(schoolsprains_count),1)\n",
    "plt.bar(x_axis,schoolsprains_count, label=\"Strains by College Team\", color= \"r\", align = \"center\")\n",
    "#plt.xticks([0,3,7,11,15,19,23,27,31,35],[\"19\",\"22\",\"26\",\"30\",\"34\",\"38\",\"42\",\"46\",\"50\",\"54\"] )\n",
    "plt.xlabel(\"Injured Player's College Team\")\n",
    "plt.ylabel(\"Number of Strains/Sprains\")\n",
    "plt.title(\"Sprains/Strains by College Team\")\n",
    "plt.savefig(\"Sprains_Schools.png\")"
   ]
  },
  {
   "cell_type": "code",
   "execution_count": 21,
   "metadata": {},
   "outputs": [
    {
     "data": {
      "text/plain": [
       "college\n",
       "Alabama A&M University         0.0\n",
       "Arizona State University       0.0\n",
       "Auburn University              0.0\n",
       "Baylor University              0.0\n",
       "Belmont University             0.0\n",
       "                              ... \n",
       "Western Carolina University    0.0\n",
       "Western Kentucky University    0.0\n",
       "Western Michigan University    0.0\n",
       "Wichita State University       0.0\n",
       "Xavier University              0.0\n",
       "Name: Dislocations, Length: 146, dtype: float64"
      ]
     },
     "execution_count": 21,
     "metadata": {},
     "output_type": "execute_result"
    }
   ],
   "source": [
    "schooldislocations = nba_hurt.groupby([\"college\",'Dislocations'])[['Dislocations']].count()\n",
    "schooldislocations_count = inj_school[\"Dislocations\"].sum()\n",
    "schooldislocations_count"
   ]
  },
  {
   "cell_type": "code",
   "execution_count": 57,
   "metadata": {},
   "outputs": [
    {
     "data": {
      "image/png": "[encoded data removed]",
      "text/plain": [
       "<Figure size 432x288 with 1 Axes>"
      ]
     },
     "metadata": {
      "needs_background": "light"
     },
     "output_type": "display_data"
    }
   ],
   "source": [
    "x_axis = np.arange(0,len(schooldislocations_count),1)\n",
    "plt.bar(x_axis,schooldislocations_count, label=\"Dislocations by College Team\", color= \"g\", align = \"center\")\n",
    "#plt.xticks([0,3,7,11,15,19,23,27,31,35],[\"19\",\"22\",\"26\",\"30\",\"34\",\"38\",\"42\",\"46\",\"50\",\"54\"] )\n",
    "plt.xlabel(\"Injured Player's College Team\")\n",
    "plt.ylabel(\"Number of Dislocations\")\n",
    "plt.title(\"Dislocations by College Team\")\n",
    "plt.savefig(\"Dislocations_Schools.png\")"
   ]
  },
  {
   "cell_type": "code",
   "execution_count": 23,
   "metadata": {},
   "outputs": [
    {
     "data": {
      "text/plain": [
       "college\n",
       "Alabama A&M University          0.0\n",
       "Arizona State University        0.0\n",
       "Auburn University               0.0\n",
       "Baylor University               0.0\n",
       "Belmont University              0.0\n",
       "                               ... \n",
       "Western Carolina University    37.0\n",
       "Western Kentucky University     0.0\n",
       "Western Michigan University     0.0\n",
       "Wichita State University        0.0\n",
       "Xavier University               0.0\n",
       "Name: Arm Fractures, Length: 146, dtype: float64"
      ]
     },
     "execution_count": 23,
     "metadata": {},
     "output_type": "execute_result"
    }
   ],
   "source": [
    "schoolarmbreaks = nba_hurt.groupby([\"college\",'Arm Fractures'])[['Arm Fractures']].count()\n",
    "schoolarmbreaks_count = inj_school[\"Arm Fractures\"].sum()\n",
    "schoolarmbreaks_count"
   ]
  },
  {
   "cell_type": "code",
   "execution_count": 58,
   "metadata": {},
   "outputs": [
    {
     "data": {
      "image/png": "[encoded data removed]",
      "text/plain": [
       "<Figure size 432x288 with 1 Axes>"
      ]
     },
     "metadata": {
      "needs_background": "light"
     },
     "output_type": "display_data"
    }
   ],
   "source": [
    "x_axis = np.arange(0,len(schoolarmbreaks_count),1)\n",
    "plt.bar(x_axis,schoolarmbreaks_count, label=\"Arm Fractures by College Team\", color= \"orange\", align = \"center\")\n",
    "#plt.xticks([0,3,7,11,15,19,23,27,31,35],[\"19\",\"22\",\"26\",\"30\",\"34\",\"38\",\"42\",\"46\",\"50\",\"54\"] )\n",
    "plt.xlabel(\"Injured Player's College Team\")\n",
    "plt.ylabel(\"Number of Arm Fractures\")\n",
    "plt.title(\"Arm Fractures by College Team\")\n",
    "plt.savefig(\"ArmFractures_Schools.png\")"
   ]
  },
  {
   "cell_type": "code",
   "execution_count": 25,
   "metadata": {},
   "outputs": [
    {
     "data": {
      "text/plain": [
       "college\n",
       "Alabama A&M University          0.0\n",
       "Arizona State University        0.0\n",
       "Auburn University               0.0\n",
       "Baylor University               0.0\n",
       "Belmont University              0.0\n",
       "                               ... \n",
       "Western Carolina University    37.0\n",
       "Western Kentucky University     0.0\n",
       "Western Michigan University     0.0\n",
       "Wichita State University        0.0\n",
       "Xavier University               0.0\n",
       "Name: Leg Fractures, Length: 146, dtype: float64"
      ]
     },
     "execution_count": 25,
     "metadata": {},
     "output_type": "execute_result"
    }
   ],
   "source": [
    "schoollegbreaks = nba_hurt.groupby([\"college\",'Leg Fractures'])[['Leg Fractures']].count()\n",
    "schoollegbreaks_count = inj_school[\"Leg Fractures\"].sum()\n",
    "schoollegbreaks_count"
   ]
  },
  {
   "cell_type": "code",
   "execution_count": 59,
   "metadata": {},
   "outputs": [
    {
     "data": {
      "image/png": "[encoded data removed]",
      "text/plain": [
       "<Figure size 432x288 with 1 Axes>"
      ]
     },
     "metadata": {
      "needs_background": "light"
     },
     "output_type": "display_data"
    }
   ],
   "source": [
    "x_axis = np.arange(0,len(schoollegbreaks_count),1)\n",
    "plt.bar(x_axis,schoollegbreaks_count, label=\"Leg Fractures by College Team\", color= \"purple\", align = \"center\")\n",
    "#plt.xticks([0,3,7,11,15,19,23,27,31,35],[\"19\",\"22\",\"26\",\"30\",\"34\",\"38\",\"42\",\"46\",\"50\",\"54\"] )\n",
    "plt.xlabel(\"Injured Player's College Team\")\n",
    "plt.ylabel(\"Number of Leg Fractures\")\n",
    "plt.title(\"Leg Fractures by College Team\")\n",
    "plt.savefig(\"LegFractures_Schools.png\")"
   ]
  },
  {
   "cell_type": "code",
   "execution_count": 27,
   "metadata": {},
   "outputs": [
    {
     "data": {
      "text/plain": [
       "Team\n",
       "76ers           5177\n",
       "Blazers         2872\n",
       "Bobcats         2606\n",
       "Bucks           7085\n",
       "Bulls           6099\n",
       "Cavaliers       6222\n",
       "Celtics         4085\n",
       "Clippers        6240\n",
       "Grizzlies       5764\n",
       "Hawks           2499\n",
       "Heat            3642\n",
       "Hornets         8389\n",
       "Jazz            4284\n",
       "Kings           4179\n",
       "Knicks          3973\n",
       "Lakers          8718\n",
       "Magic           7597\n",
       "Mavericks       4264\n",
       "Nets            6254\n",
       "Nuggets         7146\n",
       "Pacers          2831\n",
       "Pelicans        8433\n",
       "Pistons         2896\n",
       "Raptors         2790\n",
       "Rockets         4990\n",
       "Spurs           3525\n",
       "Suns            2224\n",
       "Thunder          808\n",
       "Timberwolves    9123\n",
       "Warriors        7085\n",
       "Wizards         5238\n",
       "Name: Team, dtype: int64"
      ]
     },
     "execution_count": 27,
     "metadata": {},
     "output_type": "execute_result"
    }
   ],
   "source": [
    "inj_team = nba_hurt.groupby([\"Team\"])\n",
    "inj_team_count = inj_team[\"Team\"].count()\n",
    "inj_team_count"
   ]
  },
  {
   "cell_type": "code",
   "execution_count": 60,
   "metadata": {},
   "outputs": [
    {
     "data": {
      "image/png": "[encoded data removed]",
      "text/plain": [
       "<Figure size 432x288 with 1 Axes>"
      ]
     },
     "metadata": {
      "needs_background": "light"
     },
     "output_type": "display_data"
    }
   ],
   "source": [
    "x_axis = np.arange(0,len(inj_team_count),1)\n",
    "plt.bar(x_axis,inj_team_count, label=\"Injuries by Team\", align = \"center\")\n",
    "#plt.xticks([0,3,7,11,15,19,23,27,31,35],[\"19\",\"22\",\"26\",\"30\",\"34\",\"38\",\"42\",\"46\",\"50\",\"54\"] )\n",
    "plt.xlabel(\"Injured Player's Team\")\n",
    "plt.ylabel(\"Number of Injuries\")\n",
    "plt.title(\"Injuries by Team\")\n",
    "plt.savefig(\"Injuries_Teams.png\")"
   ]
  },
  {
   "cell_type": "code",
   "execution_count": 29,
   "metadata": {},
   "outputs": [
    {
     "data": {
      "text/plain": [
       "Team\n",
       "76ers           1183.0\n",
       "Blazers          729.0\n",
       "Bobcats          680.0\n",
       "Bucks           2007.0\n",
       "Bulls           1751.0\n",
       "Cavaliers       1690.0\n",
       "Celtics         1402.0\n",
       "Clippers        1380.0\n",
       "Grizzlies        928.0\n",
       "Hawks            609.0\n",
       "Heat             876.0\n",
       "Hornets         2169.0\n",
       "Jazz            1619.0\n",
       "Kings           1148.0\n",
       "Knicks          1314.0\n",
       "Lakers          1736.0\n",
       "Magic           2998.0\n",
       "Mavericks       1569.0\n",
       "Nets            2100.0\n",
       "Nuggets         2479.0\n",
       "Pacers           966.0\n",
       "Pelicans        1517.0\n",
       "Pistons         1072.0\n",
       "Raptors          725.0\n",
       "Rockets         1521.0\n",
       "Spurs            867.0\n",
       "Suns             627.0\n",
       "Thunder          201.0\n",
       "Timberwolves    2244.0\n",
       "Warriors        2778.0\n",
       "Wizards         1505.0\n",
       "Name: Strains/Sprains, dtype: float64"
      ]
     },
     "execution_count": 29,
     "metadata": {},
     "output_type": "execute_result"
    }
   ],
   "source": [
    "teamsprains = nba_hurt.groupby([\"Team\",'Strains/Sprains'])[['Strains/Sprains']].count()\n",
    "teamsprains_count = inj_team[\"Strains/Sprains\"].sum()\n",
    "teamsprains_count"
   ]
  },
  {
   "cell_type": "code",
   "execution_count": 61,
   "metadata": {},
   "outputs": [
    {
     "data": {
      "image/png": "[encoded data removed]",
      "text/plain": [
       "<Figure size 432x288 with 1 Axes>"
      ]
     },
     "metadata": {
      "needs_background": "light"
     },
     "output_type": "display_data"
    }
   ],
   "source": [
    "x_axis = np.arange(0,len(teamsprains_count),1)\n",
    "plt.bar(x_axis,teamsprains_count, label=\"Strains by Team\", color= \"r\", align = \"center\")\n",
    "#plt.xticks([0,3,7,11,15,19,23,27,31,35],[\"19\",\"22\",\"26\",\"30\",\"34\",\"38\",\"42\",\"46\",\"50\",\"54\"] )\n",
    "plt.xlabel(\"Injured Player's Team\")\n",
    "plt.ylabel(\"Number of Strains/Sprains\")\n",
    "plt.title(\"Sprains/Strains by Team\")\n",
    "plt.savefig(\"Sprains_Teams.png\")"
   ]
  },
  {
   "cell_type": "code",
   "execution_count": 31,
   "metadata": {},
   "outputs": [
    {
     "data": {
      "text/plain": [
       "Team\n",
       "76ers            11.0\n",
       "Blazers          23.0\n",
       "Bobcats           0.0\n",
       "Bucks            17.0\n",
       "Bulls            16.0\n",
       "Cavaliers        17.0\n",
       "Celtics           4.0\n",
       "Clippers          3.0\n",
       "Grizzlies         8.0\n",
       "Hawks             0.0\n",
       "Heat             62.0\n",
       "Hornets           0.0\n",
       "Jazz             40.0\n",
       "Kings           198.0\n",
       "Knicks            6.0\n",
       "Lakers           19.0\n",
       "Magic             7.0\n",
       "Mavericks         0.0\n",
       "Nets              0.0\n",
       "Nuggets           0.0\n",
       "Pacers            0.0\n",
       "Pelicans          0.0\n",
       "Pistons           6.0\n",
       "Raptors          15.0\n",
       "Rockets          27.0\n",
       "Spurs             4.0\n",
       "Suns              5.0\n",
       "Thunder           0.0\n",
       "Timberwolves      3.0\n",
       "Warriors          0.0\n",
       "Wizards           1.0\n",
       "Name: Dislocations, dtype: float64"
      ]
     },
     "execution_count": 31,
     "metadata": {},
     "output_type": "execute_result"
    }
   ],
   "source": [
    "teamdislocations = nba_hurt.groupby([\"Team\",'Dislocations'])[['Dislocations']].count()\n",
    "teamdislocations_count = inj_team[\"Dislocations\"].sum()\n",
    "teamdislocations_count"
   ]
  },
  {
   "cell_type": "code",
   "execution_count": 64,
   "metadata": {},
   "outputs": [
    {
     "data": {
      "image/png": "[encoded data removed]",
      "text/plain": [
       "<Figure size 432x288 with 1 Axes>"
      ]
     },
     "metadata": {
      "needs_background": "light"
     },
     "output_type": "display_data"
    }
   ],
   "source": [
    "x_axis = np.arange(0,len(teamdislocations_count),1)\n",
    "plt.bar(x_axis,teamdislocations_count, label=\"Dislocations by Team\", color= \"g\", align = \"center\")\n",
    "#plt.xticks([0,3,7,11,15,19,23,27,31,35],[\"19\",\"22\",\"26\",\"30\",\"34\",\"38\",\"42\",\"46\",\"50\",\"54\"] )\n",
    "plt.xlabel(\"Injured Player's Team\")\n",
    "plt.ylabel(\"Number of Dislocations\")\n",
    "plt.title(\"Dislocations by Team\")\n",
    "plt.savefig(\"Dislocations_Teams.png\")"
   ]
  },
  {
   "cell_type": "code",
   "execution_count": 33,
   "metadata": {},
   "outputs": [
    {
     "data": {
      "text/plain": [
       "Team\n",
       "76ers             54.0\n",
       "Blazers            6.0\n",
       "Bobcats           10.0\n",
       "Bucks             11.0\n",
       "Bulls             21.0\n",
       "Cavaliers        866.0\n",
       "Celtics           35.0\n",
       "Clippers          65.0\n",
       "Grizzlies          2.0\n",
       "Hawks              7.0\n",
       "Heat              31.0\n",
       "Hornets          130.0\n",
       "Jazz              43.0\n",
       "Kings             12.0\n",
       "Knicks            34.0\n",
       "Lakers             6.0\n",
       "Magic             13.0\n",
       "Mavericks          4.0\n",
       "Nets               0.0\n",
       "Nuggets            2.0\n",
       "Pacers             0.0\n",
       "Pelicans         101.0\n",
       "Pistons            0.0\n",
       "Raptors            0.0\n",
       "Rockets           70.0\n",
       "Spurs             24.0\n",
       "Suns              26.0\n",
       "Thunder            4.0\n",
       "Timberwolves    2002.0\n",
       "Warriors           1.0\n",
       "Wizards            2.0\n",
       "Name: Arm Fractures, dtype: float64"
      ]
     },
     "execution_count": 33,
     "metadata": {},
     "output_type": "execute_result"
    }
   ],
   "source": [
    "teamarmbreaks = nba_hurt.groupby([\"Team\",'Arm Fractures'])[['Arm Fractures']].count()\n",
    "teamarmbreaks_count = inj_team[\"Arm Fractures\"].sum()\n",
    "teamarmbreaks_count"
   ]
  },
  {
   "cell_type": "code",
   "execution_count": 65,
   "metadata": {},
   "outputs": [
    {
     "data": {
      "image/png": "[encoded data removed]",
      "text/plain": [
       "<Figure size 432x288 with 1 Axes>"
      ]
     },
     "metadata": {
      "needs_background": "light"
     },
     "output_type": "display_data"
    }
   ],
   "source": [
    "x_axis = np.arange(0,len(teamarmbreaks_count),1)\n",
    "plt.bar(x_axis,teamarmbreaks_count, label=\"Arm Fractures by Team\", color= \"orange\", align = \"center\")\n",
    "#plt.xticks([0,3,7,11,15,19,23,27,31,35],[\"19\",\"22\",\"26\",\"30\",\"34\",\"38\",\"42\",\"46\",\"50\",\"54\"] )\n",
    "plt.xlabel(\"Injured Player's Team\")\n",
    "plt.ylabel(\"Number of Arm Fractures\")\n",
    "plt.title(\"Arm Fractures by Team\")\n",
    "plt.savefig(\"ArmFractures_Teams.png\")"
   ]
  },
  {
   "cell_type": "code",
   "execution_count": 35,
   "metadata": {},
   "outputs": [
    {
     "data": {
      "text/plain": [
       "Team\n",
       "76ers           13.0\n",
       "Blazers          1.0\n",
       "Bobcats          0.0\n",
       "Bucks           59.0\n",
       "Bulls            1.0\n",
       "Cavaliers        2.0\n",
       "Celtics         20.0\n",
       "Clippers        13.0\n",
       "Grizzlies       17.0\n",
       "Hawks            7.0\n",
       "Heat             0.0\n",
       "Hornets         26.0\n",
       "Jazz            58.0\n",
       "Kings            0.0\n",
       "Knicks           2.0\n",
       "Lakers          18.0\n",
       "Magic            1.0\n",
       "Mavericks       16.0\n",
       "Nets            15.0\n",
       "Nuggets         30.0\n",
       "Pacers           6.0\n",
       "Pelicans        24.0\n",
       "Pistons          0.0\n",
       "Raptors          8.0\n",
       "Rockets         32.0\n",
       "Spurs            1.0\n",
       "Suns             2.0\n",
       "Thunder          5.0\n",
       "Timberwolves    15.0\n",
       "Warriors        44.0\n",
       "Wizards          1.0\n",
       "Name: Leg Fractures, dtype: float64"
      ]
     },
     "execution_count": 35,
     "metadata": {},
     "output_type": "execute_result"
    }
   ],
   "source": [
    "teamlegbreaks = nba_hurt.groupby([\"Team\",'Leg Fractures'])[['Leg Fractures']].count()\n",
    "teamlegbreaks_count = inj_team[\"Leg Fractures\"].sum()\n",
    "teamlegbreaks_count"
   ]
  },
  {
   "cell_type": "code",
   "execution_count": 66,
   "metadata": {},
   "outputs": [
    {
     "data": {
      "image/png": "[encoded data removed]",
      "text/plain": [
       "<Figure size 432x288 with 1 Axes>"
      ]
     },
     "metadata": {
      "needs_background": "light"
     },
     "output_type": "display_data"
    }
   ],
   "source": [
    "x_axis = np.arange(0,len(teamlegbreaks_count),1)\n",
    "plt.bar(x_axis,teamlegbreaks_count, label=\"Leg Fractures by Team\", color= \"purple\", align = \"center\")\n",
    "#plt.xticks([0,3,7,11,15,19,23,27,31,35],[\"19\",\"22\",\"26\",\"30\",\"34\",\"38\",\"42\",\"46\",\"50\",\"54\"] )\n",
    "plt.xlabel(\"Injured Player's Team\")\n",
    "plt.ylabel(\"Number of Leg Fractures\")\n",
    "plt.title(\"Leg Fractures by Team\")\n",
    "plt.savefig(\"LegFractures_Teams.png\")"
   ]
  },
  {
   "cell_type": "code",
   "execution_count": 37,
   "metadata": {},
   "outputs": [
    {
     "data": {
      "text/plain": [
       "position\n",
       "C       9495\n",
       "F      41338\n",
       "F-C    21468\n",
       "G      69034\n",
       "G-F    15703\n",
       "Name: position, dtype: int64"
      ]
     },
     "execution_count": 37,
     "metadata": {},
     "output_type": "execute_result"
    }
   ],
   "source": [
    "inj_position = nba_hurt.groupby([\"position\"])\n",
    "inj_position_count = inj_position[\"position\"].count()\n",
    "inj_position_count"
   ]
  },
  {
   "cell_type": "code",
   "execution_count": 67,
   "metadata": {},
   "outputs": [
    {
     "data": {
      "image/png": "[encoded data removed]",
      "text/plain": [
       "<Figure size 432x288 with 1 Axes>"
      ]
     },
     "metadata": {
      "needs_background": "light"
     },
     "output_type": "display_data"
    }
   ],
   "source": [
    "x_axis = np.arange(0,len(inj_position_count),1)\n",
    "plt.bar(x_axis,inj_position_count, label=\"Injuries by Position\", align = \"center\")\n",
    "plt.xticks([0,1,2,3,4],[\"Center\",\"Forward\",\"F-C\",\"Guard\",\"G-F\"] )\n",
    "plt.xlabel(\"Injured Player's Position\")\n",
    "plt.ylabel(\"Number of Injuries\")\n",
    "plt.title(\"Injuries by Position\")\n",
    "plt.savefig(\"Injuries_Positions.png\")"
   ]
  },
  {
   "cell_type": "code",
   "execution_count": 39,
   "metadata": {},
   "outputs": [
    {
     "data": {
      "text/plain": [
       "position\n",
       "C       2641.0\n",
       "F      11688.0\n",
       "F-C     4457.0\n",
       "G      22691.0\n",
       "G-F     2913.0\n",
       "Name: Strains/Sprains, dtype: float64"
      ]
     },
     "execution_count": 39,
     "metadata": {},
     "output_type": "execute_result"
    }
   ],
   "source": [
    "positionsprains = nba_hurt.groupby([\"position\",'Strains/Sprains'])[['Strains/Sprains']].count()\n",
    "positionsprains_count = inj_position[\"Strains/Sprains\"].sum()\n",
    "positionsprains_count"
   ]
  },
  {
   "cell_type": "code",
   "execution_count": 68,
   "metadata": {},
   "outputs": [
    {
     "data": {
      "image/png": "[encoded data removed]",
      "text/plain": [
       "<Figure size 432x288 with 1 Axes>"
      ]
     },
     "metadata": {
      "needs_background": "light"
     },
     "output_type": "display_data"
    }
   ],
   "source": [
    "x_axis = np.arange(0,len(positionsprains_count),1)\n",
    "plt.bar(x_axis,positionsprains_count, label=\"Strains by Position\", color= \"r\", align = \"center\")\n",
    "plt.xticks([0,1,2,3,4],[\"Center\",\"Forward\",\"F-C\",\"Guard\",\"G-F\"] )\n",
    "plt.xlabel(\"Injured Player's Position\")\n",
    "plt.ylabel(\"Number of Strains/Sprains\")\n",
    "plt.title(\"Sprains/Strains by Position\")\n",
    "plt.savefig(\"Sprains_Positions.png\")"
   ]
  },
  {
   "cell_type": "code",
   "execution_count": 41,
   "metadata": {},
   "outputs": [
    {
     "data": {
      "text/plain": [
       "position\n",
       "C        0.0\n",
       "F       91.0\n",
       "F-C    213.0\n",
       "G      144.0\n",
       "G-F     44.0\n",
       "Name: Dislocations, dtype: float64"
      ]
     },
     "execution_count": 41,
     "metadata": {},
     "output_type": "execute_result"
    }
   ],
   "source": [
    "positiondislocations = nba_hurt.groupby([\"position\",'Dislocations'])[['Dislocations']].count()\n",
    "positiondislocations_count = inj_position[\"Dislocations\"].sum()\n",
    "positiondislocations_count"
   ]
  },
  {
   "cell_type": "code",
   "execution_count": 69,
   "metadata": {},
   "outputs": [
    {
     "data": {
      "image/png": "[encoded data removed]",
      "text/plain": [
       "<Figure size 432x288 with 1 Axes>"
      ]
     },
     "metadata": {
      "needs_background": "light"
     },
     "output_type": "display_data"
    }
   ],
   "source": [
    "x_axis = np.arange(0,len(positiondislocations_count),1)\n",
    "plt.bar(x_axis,positiondislocations_count, label=\"Dislocations by Position\", color= \"g\", align = \"center\")\n",
    "plt.xticks([0,1,2,3,4],[\"Center\",\"Forward\",\"F-C\",\"Guard\",\"G-F\"] )\n",
    "plt.xlabel(\"Injured Player's Position\")\n",
    "plt.ylabel(\"Number of Dislocations\")\n",
    "plt.title(\"Dislocations by Position\")\n",
    "plt.savefig(\"Dislocations_Positions.png\")"
   ]
  },
  {
   "cell_type": "code",
   "execution_count": 43,
   "metadata": {},
   "outputs": [
    {
     "data": {
      "text/plain": [
       "position\n",
       "C        23.0\n",
       "F      2873.0\n",
       "F-C      25.0\n",
       "G       592.0\n",
       "G-F      69.0\n",
       "Name: Arm Fractures, dtype: float64"
      ]
     },
     "execution_count": 43,
     "metadata": {},
     "output_type": "execute_result"
    }
   ],
   "source": [
    "positionarmbreaks = nba_hurt.groupby([\"position\",'Arm Fractures'])[['Arm Fractures']].count()\n",
    "positionarmbreaks_count = inj_position[\"Arm Fractures\"].sum()\n",
    "positionarmbreaks_count"
   ]
  },
  {
   "cell_type": "code",
   "execution_count": 70,
   "metadata": {},
   "outputs": [
    {
     "data": {
      "image/png": "[encoded data removed]",
      "text/plain": [
       "<Figure size 432x288 with 1 Axes>"
      ]
     },
     "metadata": {
      "needs_background": "light"
     },
     "output_type": "display_data"
    }
   ],
   "source": [
    "x_axis = np.arange(0,len(positionarmbreaks_count),1)\n",
    "plt.bar(x_axis,positionarmbreaks_count, label=\"Arm Fractures by Position\", color= \"orange\", align = \"center\")\n",
    "plt.xticks([0,1,2,3,4],[\"Center\",\"Forward\",\"F-C\",\"Guard\",\"G-F\"] )\n",
    "plt.ylabel(\"Number of Arm Fractures\")\n",
    "plt.title(\"Arm Fractures by Position\")\n",
    "plt.savefig(\"Arm Fractures_Positions.png\")"
   ]
  },
  {
   "cell_type": "code",
   "execution_count": 45,
   "metadata": {},
   "outputs": [
    {
     "data": {
      "text/plain": [
       "position\n",
       "C       84.0\n",
       "F       74.0\n",
       "F-C     27.0\n",
       "G      183.0\n",
       "G-F     69.0\n",
       "Name: Leg Fractures, dtype: float64"
      ]
     },
     "execution_count": 45,
     "metadata": {},
     "output_type": "execute_result"
    }
   ],
   "source": [
    "positionlegbreaks = nba_hurt.groupby([\"position\",'Leg Fractures'])[['Leg Fractures']].count()\n",
    "positionlegbreaks_count = inj_position[\"Leg Fractures\"].sum()\n",
    "positionlegbreaks_count"
   ]
  },
  {
   "cell_type": "code",
   "execution_count": 71,
   "metadata": {},
   "outputs": [
    {
     "data": {
      "image/png": "[encoded data removed]",
      "text/plain": [
       "<Figure size 432x288 with 1 Axes>"
      ]
     },
     "metadata": {
      "needs_background": "light"
     },
     "output_type": "display_data"
    }
   ],
   "source": [
    "x_axis = np.arange(0,len(positionlegbreaks_count),1)\n",
    "plt.bar(x_axis,positionlegbreaks_count, label=\"Leg Fractures by Position\", color= \"purple\", align = \"center\")\n",
    "plt.xticks([0,1,2,3,4],[\"Center\",\"Forward\",\"F-C\",\"Guard\",\"G-F\"] )\n",
    "plt.ylabel(\"Number of Leg Fractures\")\n",
    "plt.title(\"Leg Fractures by Position\")\n",
    "plt.savefig(\"Leg Fractures_Positions.png\")"
   ]
  },
  {
   "cell_type": "code",
   "execution_count": null,
   "metadata": {},
   "outputs": [],
   "source": []
  }
 ],
 "metadata": {
  "kernelspec": {
   "display_name": "Python 3",
   "language": "python",
   "name": "python3"
  },
  "language_info": {
   "codemirror_mode": {
    "name": "ipython",
    "version": 3
   },
   "file_extension": ".py",
   "mimetype": "text/x-python",
   "name": "python",
   "nbconvert_exporter": "python",
   "pygments_lexer": "ipython3",
   "version": "3.6.8"
  }
 },
 "nbformat": 4,
 "nbformat_minor": 2
}
